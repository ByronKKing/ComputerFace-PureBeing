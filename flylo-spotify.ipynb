{
 "cells": [
  {
   "cell_type": "code",
   "execution_count": 39,
   "metadata": {
    "collapsed": false
   },
   "outputs": [],
   "source": [
    "#call packages\n",
    "import spotipy\n",
    "import spotipy.util as util\n",
    "import pandas as pd\n",
    "from pandas.io.json import json_normalize"
   ]
  },
  {
   "cell_type": "code",
   "execution_count": 107,
   "metadata": {
    "collapsed": false
   },
   "outputs": [
    {
     "name": "stdout",
     "output_type": "stream",
     "text": [
      "\n",
      "\n",
      "            User authentication requires interaction with your\n",
      "            web browser. Once you enter your credentials and\n",
      "            give authorization, you will be redirected to\n",
      "            a url.  Paste that url you were directed to to\n",
      "            complete the authorization.\n",
      "\n",
      "        \n",
      "Opening https://accounts.spotify.com/authorize?response_type=code&scope=user-library-read&client_id=643cfcf8dd054490b829709cdb6eec7c&redirect_uri=https%3A%2F%2Fgithub.com%2FByronKKing%2FComputerFace-PureBeing in your browser\n",
      "\n",
      "\n",
      "Enter the URL you were redirected to: https://github.com/ByronKKing/ComputerFace-PureBeing?code=AQCNAqrd-YIuqpdr2TRLJUaMNeVCNn5RRsOOU71gwu__FdoAvSEc-_zB5DPa_00a7o9TbZhKV5_-ifjE0tX3RiWuZD_HfWa78jXp6JACb9HFmUc6EGAdlJ7zJQ059YMGgqkuuviOfvT5-c0u3EvfPrrGfiI4-09jpk1KVfEK9V-YixWDEF4D9ZOqjRb2i9773atODBq08QUHb1XNXJxYJSUQK6PoNSt7ckPvHwWx7fB9rCUXaE_RStSj9yHs\n",
      "\n",
      "\n"
     ]
    },
    {
     "name": "stderr",
     "output_type": "stream",
     "text": [
      "warning:couldn't write token cache to .cache-ComputerFace/PureBeing\n"
     ]
    }
   ],
   "source": [
    "#set token\n",
    "\n",
    "\n",
    "spotify = spotipy.Spotify(auth=token)"
   ]
  },
  {
   "cell_type": "code",
   "execution_count": 109,
   "metadata": {
    "collapsed": true
   },
   "outputs": [],
   "source": [
    "#get flylo artist\n",
    "flylo_uri = 'spotify:artist:29XOeO6KIWxGthejQqn793'"
   ]
  },
  {
   "cell_type": "code",
   "execution_count": 110,
   "metadata": {
    "collapsed": true
   },
   "outputs": [],
   "source": [
    "#get album info\n",
    "results = spotify.artist_albums(flylo_uri, album_type='album')\n",
    "albums = results['items']\n",
    "while results['next']:\n",
    "    results = spotify.next(results)\n",
    "    albums.extend(results['items'])"
   ]
  },
  {
   "cell_type": "code",
   "execution_count": 111,
   "metadata": {
    "collapsed": false
   },
   "outputs": [],
   "source": [
    "#save album ids in list\n",
    "albumList = []\n",
    "for album in albums:\n",
    "    x = album['id']\n",
    "    albumList.append(x)"
   ]
  },
  {
   "cell_type": "code",
   "execution_count": 112,
   "metadata": {
    "collapsed": false
   },
   "outputs": [],
   "source": [
    "#get information for all songs\n",
    "songs = []\n",
    "for album in albumList:\n",
    "    results = spotify.album_tracks(album)\n",
    "    song = results['items']\n",
    "    while results['next']:\n",
    "        results = spotify.next(results)\n",
    "        song.extend(results['items'])\n",
    "    songs.append(song)"
   ]
  },
  {
   "cell_type": "code",
   "execution_count": 113,
   "metadata": {
    "collapsed": false
   },
   "outputs": [],
   "source": [
    "#get song ids in list\n",
    "songList = []\n",
    "for i in range(1,len(songs)):\n",
    "    x = songs[i]\n",
    "    for song in x:\n",
    "        y = song['id']\n",
    "        songList.append(y)"
   ]
  },
  {
   "cell_type": "code",
   "execution_count": 114,
   "metadata": {
    "collapsed": false
   },
   "outputs": [],
   "source": [
    "#break into pieces\n",
    "songs1 = songList[:int(round(len(songList)/2,0))]\n",
    "songs2 = songList[int(round(len(songList)/2,0)):]"
   ]
  },
  {
   "cell_type": "code",
   "execution_count": 115,
   "metadata": {
    "collapsed": false
   },
   "outputs": [],
   "source": [
    "#retrieve song features, put into dataframe\n",
    "results1 = spotify.audio_features(songs1)\n",
    "results2 = spotify.audio_features(songs2)\n",
    "results = results1 + results2\n",
    "df = json_normalize(results)"
   ]
  },
  {
   "cell_type": "code",
   "execution_count": 120,
   "metadata": {
    "collapsed": false
   },
   "outputs": [],
   "source": [
    "#retrieve songs, put into dataframe\n",
    "temp = []\n",
    "for song in songs:\n",
    "    temp.extend(song)\n",
    "df1 = json_normalize(temp)"
   ]
  },
  {
   "cell_type": "code",
   "execution_count": 127,
   "metadata": {
    "collapsed": false
   },
   "outputs": [],
   "source": [
    "#merge dataframe\n",
    "songdf = pd.merge(df1,df,how='left',on='id')"
   ]
  },
  {
   "cell_type": "code",
   "execution_count": null,
   "metadata": {
    "collapsed": true
   },
   "outputs": [],
   "source": [
    "##join album onto songs\n",
    "##get audio analysis\n",
    "##cluster\n",
    "##classifier\n",
    "##get ep/single info\n",
    "##see which eps are alike which albums--during similar period?"
   ]
  },
  {
   "cell_type": "code",
   "execution_count": null,
   "metadata": {
    "collapsed": true
   },
   "outputs": [],
   "source": []
  },
  {
   "cell_type": "code",
   "execution_count": null,
   "metadata": {
    "collapsed": true
   },
   "outputs": [],
   "source": []
  }
 ],
 "metadata": {
  "kernelspec": {
   "display_name": "Python 3",
   "language": "python",
   "name": "python3"
  },
  "language_info": {
   "codemirror_mode": {
    "name": "ipython",
    "version": 3
   },
   "file_extension": ".py",
   "mimetype": "text/x-python",
   "name": "python",
   "nbconvert_exporter": "python",
   "pygments_lexer": "ipython3",
   "version": "3.5.2"
  }
 },
 "nbformat": 4,
 "nbformat_minor": 1
}
