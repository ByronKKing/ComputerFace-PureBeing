{
 "cells": [
  {
   "cell_type": "code",
   "execution_count": 2,
   "metadata": {
    "collapsed": true
   },
   "outputs": [
    {
     "name": "stdout",
     "output_type": "stream",
     "text": [
      "\n",
      "\n",
      "            User authentication requires interaction with your\n",
      "            web browser. Once you enter your credentials and\n",
      "            give authorization, you will be redirected to\n",
      "            a url.  Paste that url you were directed to to\n",
      "            complete the authorization.\n",
      "\n",
      "        \n",
      "Opening https://accounts.spotify.com/authorize?client_id=643cfcf8dd054490b829709cdb6eec7c&redirect_uri=https%3A%2F%2Fgithub.com%2FByronKKing%2FComputerFace-PureBeing&response_type=code in your browser\n",
      "\n",
      "\n",
      "Enter the URL you were redirected to: https://github.com/ByronKKing/ComputerFace-PureBeing?code=AQCCZVcQDMDvfGrNBGl5qlvU1zAs_-gtut9tLCbLL4wuO8vqNpafD_yWnfXKG_psPYaZGFEarO9G3gpzxvjhWbq2W5XjZfV7msEo3PqZhKCJFheOWLiuO7SEuWnfB_FUxZgcXXlzOx10ntMiUJz2sdyAxnJIy4Bds2UsBEhvc91X6iUqeEzZzyjf6iFW1Ooc26LsxUP4lLUgMKuL4mIGn4qhokbEfkx5M-I\n",
      "\n",
      "\n"
     ]
    },
    {
     "name": "stderr",
     "output_type": "stream",
     "text": [
      "warning:couldn't write token cache to .cache-ComputerFace/PureBeing\n"
     ]
    }
   ],
   "source": [
    "#call packages, token\n",
    "import spotipy\n",
    "import spotipy.util as util\n",
    "\n"
   ]
  },
  {
   "cell_type": "code",
   "execution_count": 3,
   "metadata": {
    "collapsed": true
   },
   "outputs": [],
   "source": [
    "#get flylo artist\n",
    "spotify = spotipy.Spotify(auth=token)\n",
    "flylo_uri = 'spotify:artist:29XOeO6KIWxGthejQqn793'"
   ]
  },
  {
   "cell_type": "code",
   "execution_count": 4,
   "metadata": {
    "collapsed": true
   },
   "outputs": [],
   "source": [
    "#get album info\n",
    "results = spotify.artist_albums(flylo_uri, album_type='album')\n",
    "albums = results['items']\n",
    "while results['next']:\n",
    "    results = spotify.next(results)\n",
    "    albums.extend(results['items'])"
   ]
  },
  {
   "cell_type": "code",
   "execution_count": 9,
   "metadata": {
    "collapsed": false
   },
   "outputs": [],
   "source": [
    "#save album ids in list\n",
    "albumList = []\n",
    "for album in albums:\n",
    "    x = album['id']\n",
    "    albumList.append(x)"
   ]
  },
  {
   "cell_type": "code",
   "execution_count": 40,
   "metadata": {
    "collapsed": false
   },
   "outputs": [],
   "source": [
    "#get information for all songs\n",
    "songList = []\n",
    "for album in albumList:\n",
    "    currAlbum = album\n",
    "    results = spotify.album_tracks(album)\n",
    "    song = results['items']\n",
    "    while results['next']:\n",
    "        results = spotify.next(results)\n",
    "        song.extend(results['items'])\n",
    "    songList.append(song)"
   ]
  }
 ],
 "metadata": {
  "kernelspec": {
   "display_name": "Python 3",
   "language": "python",
   "name": "python3"
  },
  "language_info": {
   "codemirror_mode": {
    "name": "ipython",
    "version": 3
   },
   "file_extension": ".py",
   "mimetype": "text/x-python",
   "name": "python",
   "nbconvert_exporter": "python",
   "pygments_lexer": "ipython3",
   "version": "3.5.2"
  }
 },
 "nbformat": 4,
 "nbformat_minor": 1
}
