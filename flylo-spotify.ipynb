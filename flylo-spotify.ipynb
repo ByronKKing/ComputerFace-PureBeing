{
 "cells": [
  {
   "cell_type": "code",
   "execution_count": 105,
   "metadata": {
    "collapsed": false
   },
   "outputs": [],
   "source": [
    "#call packages\n",
    "import spotipy\n",
    "import spotipy.util as util\n",
    "import pandas as pd\n",
    "import sklearn\n",
    "import numpy as np\n",
    "from pandas.io.json import json_normalize\n",
    "from sklearn.cluster import KMeans"
   ]
  },
  {
   "cell_type": "markdown",
   "metadata": {},
   "source": [
    "## Build Dataset"
   ]
  },
  {
   "cell_type": "code",
   "execution_count": 2,
   "metadata": {
    "collapsed": true
   },
   "outputs": [
    {
     "name": "stdout",
     "output_type": "stream",
     "text": [
      "\n",
      "\n",
      "            User authentication requires interaction with your\n",
      "            web browser. Once you enter your credentials and\n",
      "            give authorization, you will be redirected to\n",
      "            a url.  Paste that url you were directed to to\n",
      "            complete the authorization.\n",
      "\n",
      "        \n",
      "Opened https://accounts.spotify.com/authorize?response_type=code&client_id=643cfcf8dd054490b829709cdb6eec7c&redirect_uri=https%3A%2F%2Fgithub.com%2FByronKKing%2FComputerFace-PureBeing&scope=user-library-read in your browser\n",
      "\n",
      "\n",
      "Enter the URL you were redirected to: https://github.com/ByronKKing/ComputerFace-PureBeing?code=AQAkUKTpRmng9Vg-Aw-Gdo5tyW44MSM-zB1LWxmh6ZAV2LHj5HTJ0kLwp3tN2ta6v0TsKjuS0g46xVkzIcvF1Qi9PAedWTev7pYJp20MAlPoJZmqeA5he54Mw40dHp_IuyAC4I5VIMDTD1HaRZmbrMHi0JLSkD04q5D5EEuv_mlJ-_skKR9Can9KijV-s2WyfcAFK2S8nT6G5CSVPiHXhoipZrIhLCDvdN-c8d4pMkaT_EGFOwCHXIR4bNT5\n",
      "\n",
      "\n"
     ]
    },
    {
     "name": "stderr",
     "output_type": "stream",
     "text": [
      "warning:couldn't write token cache to .cache-ComputerFace/PureBeing\n"
     ]
    }
   ],
   "source": [
    "#set token\n",
    "token = util.prompt_for_user_token(username= \"ComputerFace/PureBeing\",\n",
    "\tclient_id=\"643cfcf8dd054490b829709cdb6eec7c\", \n",
    "\tclient_secret=\"3425490d0178401db9b9674d01afd068\", \n",
    "\tredirect_uri=\"https://github.com/ByronKKing/ComputerFace-PureBeing\",\n",
    "    scope='user-library-read')\n",
    "\n",
    "spotify = spotipy.Spotify(auth=token)"
   ]
  },
  {
   "cell_type": "code",
   "execution_count": 3,
   "metadata": {
    "collapsed": true
   },
   "outputs": [],
   "source": [
    "#get flylo artist\n",
    "flylo_uri = 'spotify:artist:29XOeO6KIWxGthejQqn793'"
   ]
  },
  {
   "cell_type": "code",
   "execution_count": 4,
   "metadata": {
    "collapsed": true
   },
   "outputs": [],
   "source": [
    "#get album info\n",
    "results = spotify.artist_albums(flylo_uri, album_type='album')\n",
    "albums = results['items']\n",
    "while results['next']:\n",
    "    results = spotify.next(results)\n",
    "    albums.extend(results['items'])"
   ]
  },
  {
   "cell_type": "code",
   "execution_count": 5,
   "metadata": {
    "collapsed": false
   },
   "outputs": [],
   "source": [
    "#save album ids in list\n",
    "albumList = []\n",
    "for album in albums:\n",
    "    x = album['id']\n",
    "    albumList.append(x)\n",
    "    \n",
    "#save album names in list\n",
    "albumNames = []\n",
    "for album in albums:\n",
    "    x = album['name']\n",
    "    albumNames.append(x)"
   ]
  },
  {
   "cell_type": "code",
   "execution_count": 6,
   "metadata": {
    "collapsed": false
   },
   "outputs": [],
   "source": [
    "#get information for all songs\n",
    "songs = []\n",
    "for i in range(0,len(albumList)):\n",
    "    results = spotify.album_tracks(albumList[i])\n",
    "    song = results['items']\n",
    "    while results['next']:\n",
    "        results = spotify.next(results)\n",
    "        song.extend(results['items'])\n",
    "    song[0]['album_name'] = albumNames[i]\n",
    "    song[0]['album_id'] = albumList[i]\n",
    "    songs.append(song)"
   ]
  },
  {
   "cell_type": "code",
   "execution_count": 8,
   "metadata": {
    "collapsed": false
   },
   "outputs": [],
   "source": [
    "#get song ids in list\n",
    "songList = []\n",
    "for i in range(1,len(songs)):\n",
    "    x = songs[i]\n",
    "    for song in x:\n",
    "        y = song['id']\n",
    "        songList.append(y)"
   ]
  },
  {
   "cell_type": "code",
   "execution_count": 9,
   "metadata": {
    "collapsed": false
   },
   "outputs": [],
   "source": [
    "#break into pieces\n",
    "songs1 = songList[:int(round(len(songList)/2,0))]\n",
    "songs2 = songList[int(round(len(songList)/2,0)):]"
   ]
  },
  {
   "cell_type": "code",
   "execution_count": 10,
   "metadata": {
    "collapsed": false
   },
   "outputs": [],
   "source": [
    "#retrieve song features, put into dataframe\n",
    "results1 = spotify.audio_features(songs1)\n",
    "results2 = spotify.audio_features(songs2)\n",
    "results = results1 + results2\n",
    "df = json_normalize(results)"
   ]
  },
  {
   "cell_type": "code",
   "execution_count": 11,
   "metadata": {
    "collapsed": false
   },
   "outputs": [],
   "source": [
    "#retrieve songs, put into dataframe\n",
    "temp = []\n",
    "for song in songs:\n",
    "    temp.extend(song)\n",
    "df1 = json_normalize(temp)"
   ]
  },
  {
   "cell_type": "code",
   "execution_count": null,
   "metadata": {
    "collapsed": true
   },
   "outputs": [],
   "source": [
    "#get audio analysis for each song\n",
    "audioAnalysis = []\n",
    "for song in songList:\n",
    "    x = spotify.audio_analysis(song)\n",
    "    x['song_id'] = song\n",
    "    audioAnalysis.append(x)\n",
    "df2 = json_normalize(audioAnalysis)"
   ]
  },
  {
   "cell_type": "code",
   "execution_count": 86,
   "metadata": {
    "collapsed": false
   },
   "outputs": [],
   "source": [
    "#get popularity for each song\n",
    "tracks1 = spotify.tracks(songs1)\n",
    "#tracks1['song_id'] = songs1\n",
    "tracks2 = spotify.tracks(songs2)\n",
    "#tracks2['song_id'] = songs2\n",
    "tracks = {**tracks1, **tracks2}\n",
    "df3 = json_normalize(tracks['tracks'])"
   ]
  },
  {
   "cell_type": "code",
   "execution_count": 45,
   "metadata": {
    "collapsed": true
   },
   "outputs": [],
   "source": [
    "#merge dataframes\n",
    "songdf = pd.merge(df,df1,how='left',on='id')\n",
    "songdf = pd.merge(songdf,df2,how='left',left_on='id',right_on='song_id')\n",
    "songdf = pd.merge(songdf,df3[['id','popularity']],how='left',left_on='id',right_on='id')"
   ]
  },
  {
   "cell_type": "markdown",
   "metadata": {},
   "source": [
    "## Clustering"
   ]
  },
  {
   "cell_type": "code",
   "execution_count": 109,
   "metadata": {
    "collapsed": false
   },
   "outputs": [],
   "source": [
    "#Convert DataFrame to matrix\n",
    "mat = songdf[np.isfinite(songdf['popularity'])]._get_numeric_data().as_matrix()\n",
    "#Using sklearn\n",
    "km = KMeans(n_clusters=4).fit(mat)\n",
    "#Get cluster assignment labels\n",
    "labels = km.labels_\n",
    "#Format results as a DataFrame\n",
    "results = pd.DataFrame([songdf.index,labels]).T"
   ]
  },
  {
   "cell_type": "code",
   "execution_count": null,
   "metadata": {
    "collapsed": true
   },
   "outputs": [],
   "source": [
    "##cluster\n",
    "##classifier\n",
    "##get ep/single info\n",
    "##see which eps are alike which albums--during similar period?"
   ]
  }
 ],
 "metadata": {
  "kernelspec": {
   "display_name": "Python 3",
   "language": "python",
   "name": "python3"
  },
  "language_info": {
   "codemirror_mode": {
    "name": "ipython",
    "version": 3
   },
   "file_extension": ".py",
   "mimetype": "text/x-python",
   "name": "python",
   "nbconvert_exporter": "python",
   "pygments_lexer": "ipython3",
   "version": "3.5.2"
  }
 },
 "nbformat": 4,
 "nbformat_minor": 1
}
