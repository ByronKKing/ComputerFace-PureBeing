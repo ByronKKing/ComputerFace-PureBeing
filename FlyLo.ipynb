{
 "cells": [
  {
   "cell_type": "code",
   "execution_count": 26,
   "metadata": {
    "collapsed": false
   },
   "outputs": [],
   "source": [
    "import requests\n",
    "import json\n",
    "import pandas as pd\n",
    "import numpy as np\n",
    "import musicbrainzngs as mbz\n",
    "import xml.etree.ElementTree as ET\n",
    "import matplotlib.pyplot as plt\n",
    "plt.style.use('fivethirtyeight')"
   ]
  },
  {
   "cell_type": "markdown",
   "metadata": {},
   "source": [
    "## Call MusicBrainz API"
   ]
  },
  {
   "cell_type": "code",
   "execution_count": 27,
   "metadata": {
    "collapsed": true
   },
   "outputs": [],
   "source": [
    "# return requests as xml\n",
    "mbz.set_format('xml')"
   ]
  },
  {
   "cell_type": "code",
   "execution_count": 28,
   "metadata": {
    "collapsed": true
   },
   "outputs": [],
   "source": [
    "# set user agent\n",
    "mbz.set_useragent(\n",
    "    \"ComputerFace-PureBeing\",\n",
    "    \"0.1\",\n",
    "    \"https://github.com/byronkking/ComputerFace-PureBeing/\",\n",
    ")"
   ]
  },
  {
   "cell_type": "markdown",
   "metadata": {},
   "source": [
    "### get artist info"
   ]
  },
  {
   "cell_type": "code",
   "execution_count": 29,
   "metadata": {
    "collapsed": false
   },
   "outputs": [
    {
     "name": "stdout",
     "output_type": "stream",
     "text": [
      "fc7376fe-1a6f-4414-b4a7-83f50ed59c92: Flying Lotus\n",
      "b4681cdc-4002-4521-8458-ac812f1b6d28: Lotus\n",
      "7f7a18ff-90b3-496e-a25c-4bbb34f51edf: Lotus\n",
      "f15386df-5950-46ba-a899-ed74dfaf0a42: Lotus\n",
      "467778bf-cee8-408a-b22a-fde6a99087ad: Lotus\n",
      "88d3235a-6d73-4a17-a98d-93099e9bbbac: Lotus\n",
      "28a6c75c-5d8f-483f-9c8c-829b89fb0050: Lotus\n",
      "b2358a61-dd8f-47f4-a6ac-744c413c3fb0: Lotus\n",
      "2891a20f-812f-4f8b-96a8-0b0361cd1785: Lotus\n",
      "2e27c86e-fe90-434c-9d35-8fe2e07738fe: Lotus\n",
      "b78b664d-e2ba-435f-a71a-180e73c9c767: Lotus\n",
      "e3251e2b-0db2-47c4-b684-2efa6df0a00e: Lotus\n",
      "59eaea88-3089-4c24-9ec9-5a7ae73936be: Lotus\n",
      "cc5c45ad-b296-4e08-8ffd-9de7ad4ee298: Lotus\n",
      "bc559041-304b-4ecf-833b-0cb2ad1a4ba6: Lotus\n",
      "2cc924f5-d6d8-477d-be49-e77575d6b4df: Flying\n",
      "1c5e627b-d16f-41c3-a031-48b956829343: Flying\n",
      "58d0cb0e-a088-46e6-811b-c093cc77573d: Lotus Crown\n",
      "3554dfec-821a-4d34-b707-0cac889ae81e: Dark Lotus\n",
      "e60b0737-095c-4cff-8e35-f24063d7e212: Crimson Lotus\n",
      "67776697-0ce5-476a-a763-b3d0548bad41: Lotus Project\n",
      "b8ca92e7-3d72-4583-835b-3fefe4b8dcc9: Purple Lotus\n",
      "28604798-0160-4673-937b-1d800220d762: Lotus Omega\n",
      "8b9c2f19-4c40-49e3-ae74-75a58a6ec357: Blue Lotus\n",
      "16747186-0bc9-4505-ac67-cd41d9818e5f: Lotus 07\n"
     ]
    }
   ],
   "source": [
    "# find artist id for FlyLo\n",
    "request = mbz.search_artists(\"Flying Lotus\")\n",
    "for artist in request['artist-list']:\n",
    "    print(u\"{id}: {name}\".format(id=artist['id'], name=artist[\"name\"]))"
   ]
  },
  {
   "cell_type": "code",
   "execution_count": 30,
   "metadata": {
    "collapsed": false
   },
   "outputs": [
    {
     "name": "stdout",
     "output_type": "stream",
     "text": [
      "name:\t\tFlying Lotus\n",
      "sort name:\tFlying Lotus\n"
     ]
    }
   ],
   "source": [
    "# test getting FlyLo info with artist id\n",
    "artist_id = \"fc7376fe-1a6f-4414-b4a7-83f50ed59c92\"\n",
    "try:\n",
    "    result = mbz.get_artist_by_id(artist_id)\n",
    "except Exception as error:\n",
    "    print(\"Something went wrong with the request: %s\" % error)\n",
    "else:\n",
    "    artist = result[\"artist\"]\n",
    "    print(\"name:\\t\\t%s\" % artist[\"name\"])\n",
    "    print(\"sort name:\\t%s\" % artist[\"sort-name\"])"
   ]
  },
  {
   "cell_type": "markdown",
   "metadata": {},
   "source": [
    "### get artist info"
   ]
  },
  {
   "cell_type": "code",
   "execution_count": 31,
   "metadata": {
    "collapsed": true
   },
   "outputs": [],
   "source": [
    "# test getting FlyLo info with artist id\n",
    "artist_id = \"fc7376fe-1a6f-4414-b4a7-83f50ed59c92\"\n",
    "result = mbz.get_artist_by_id(artist_id,includes=['releases'])"
   ]
  },
  {
   "cell_type": "code",
   "execution_count": 32,
   "metadata": {
    "collapsed": false
   },
   "outputs": [],
   "source": [
    "temp = pd.DataFrame.from_dict(result)"
   ]
  },
  {
   "cell_type": "markdown",
   "metadata": {},
   "source": [
    "### get album info"
   ]
  },
  {
   "cell_type": "markdown",
   "metadata": {},
   "source": [
    "#### albums and eps"
   ]
  },
  {
   "cell_type": "code",
   "execution_count": 33,
   "metadata": {
    "collapsed": false
   },
   "outputs": [],
   "source": [
    "result = mbz.get_artist_by_id(artist_id,includes=[\"release-groups\",\"tags\"], release_type=[\"album\", \"ep\"])"
   ]
  },
  {
   "cell_type": "code",
   "execution_count": 34,
   "metadata": {
    "collapsed": false
   },
   "outputs": [
    {
     "data": {
      "text/plain": [
       "{'artist': {'area': {'id': '489ce91b-6658-3307-9877-795b68554c98',\n",
       "   'iso-3166-1-code-list': ['US'],\n",
       "   'name': 'United States',\n",
       "   'sort-name': 'United States'},\n",
       "  'begin-area': {'id': '1f40c6e1-47ba-4e35-996f-fe6ee5840e62',\n",
       "   'name': 'Los Angeles',\n",
       "   'sort-name': 'Los Angeles'},\n",
       "  'country': 'US',\n",
       "  'gender': 'Male',\n",
       "  'id': 'fc7376fe-1a6f-4414-b4a7-83f50ed59c92',\n",
       "  'isni-list': ['0000000081899265'],\n",
       "  'life-span': {'begin': '1983-10-07'},\n",
       "  'name': 'Flying Lotus',\n",
       "  'release-group-count': 20,\n",
       "  'release-group-list': [{'first-release-date': '2015-07-04',\n",
       "    'id': '13bee711-e15c-4eba-a9ad-ebeeb8d4bc98',\n",
       "    'primary-type': 'Album',\n",
       "    'secondary-type-list': ['DJ-mix'],\n",
       "    'title': 'Lovers Melt 4',\n",
       "    'type': 'Album'},\n",
       "   {'first-release-date': '2011-01-12',\n",
       "    'id': '1c892e7b-7e0c-4c16-948d-001d6d7f1b89',\n",
       "    'primary-type': 'EP',\n",
       "    'tag-list': [{'count': '1', 'name': 'abstract'}],\n",
       "    'title': 'Cosmogramma Alt Takes',\n",
       "    'type': 'EP'},\n",
       "   {'first-release-date': '2008-08',\n",
       "    'id': '290f058a-344c-3f4f-b3ab-bd3419fe4ce4',\n",
       "    'primary-type': 'EP',\n",
       "    'tag-list': [{'count': '1', 'name': 'electronic'}],\n",
       "    'title': 'Shhh!',\n",
       "    'type': 'EP'},\n",
       "   {'first-release-date': '2008-11-24',\n",
       "    'id': '4bb751b2-d809-34a2-8472-4c1faec4419a',\n",
       "    'primary-type': 'EP',\n",
       "    'tag-list': [{'count': '1', 'name': 'electronic'}],\n",
       "    'title': 'L.A. EP 2 X 3',\n",
       "    'type': 'EP'},\n",
       "   {'first-release-date': '2009',\n",
       "    'id': '50aa2819-3aae-4d8a-9971-bad0ed222f55',\n",
       "    'primary-type': 'EP',\n",
       "    'title': 'Tectonic Plate 2.3',\n",
       "    'type': 'EP'},\n",
       "   {'first-release-date': '2009-05-02',\n",
       "    'id': '5357a14f-665f-4099-9a95-28c55e72e3c7',\n",
       "    'primary-type': 'Album',\n",
       "    'secondary-type-list': ['Compilation'],\n",
       "    'title': 'LA CD',\n",
       "    'type': 'Compilation'},\n",
       "   {'first-release-date': '2010',\n",
       "    'id': '580cb45d-79cc-49e3-b7c2-11e0179f4ed3',\n",
       "    'primary-type': 'Album',\n",
       "    'secondary-type-list': ['Compilation'],\n",
       "    'title': 'IIOIO',\n",
       "    'type': 'Compilation'},\n",
       "   {'first-release-date': '2009-02',\n",
       "    'id': '5fd3a39e-e1b7-4b98-8c01-d2ce1c461943',\n",
       "    'primary-type': 'EP',\n",
       "    'title': 'Whole Wide World / Lit Up / Keep It Moving',\n",
       "    'type': 'EP'},\n",
       "   {'first-release-date': '2008-06-04',\n",
       "    'id': '83b3e9f2-0080-3d98-b75f-afc09e834118',\n",
       "    'primary-type': 'Album',\n",
       "    'tag-list': [{'count': '2', 'name': 'beatgen'},\n",
       "     {'count': '3', 'name': 'electronic'},\n",
       "     {'count': '1', 'name': 'hip-hop'},\n",
       "     {'count': '2', 'name': 'instrumental'}],\n",
       "    'title': 'Los Angeles',\n",
       "    'type': 'Album'},\n",
       "   {'first-release-date': '2010-09-11',\n",
       "    'id': '8cc77d2c-467b-4375-80b1-3c695c096469',\n",
       "    'primary-type': 'EP',\n",
       "    'title': 'Pattern+Grid World',\n",
       "    'type': 'EP'},\n",
       "   {'first-release-date': '',\n",
       "    'id': '8dcee863-7b0b-4350-917e-b8ccc2e7f0e9',\n",
       "    'primary-type': 'Album',\n",
       "    'secondary-type-list': ['Live'],\n",
       "    'title': '2009-04-05: Plastic People, London, UK',\n",
       "    'type': 'Live'},\n",
       "   {'first-release-date': '2006-10-03',\n",
       "    'id': '938aeb97-a440-30fc-97d2-d9bf4f7f42a3',\n",
       "    'primary-type': 'Album',\n",
       "    'tag-list': [{'count': '1', 'name': 'electronic'},\n",
       "     {'count': '2', 'name': 'hip-hop'},\n",
       "     {'count': '2', 'name': 'instrumental'}],\n",
       "    'title': '1983',\n",
       "    'type': 'Album'},\n",
       "   {'first-release-date': '2014-10-06',\n",
       "    'id': 'a1d4a471-bae9-4d0c-82d5-751ce37a5793',\n",
       "    'primary-type': 'Album',\n",
       "    'tag-list': [{'count': '1', 'name': 'electronic'}],\n",
       "    'title': 'You’re Dead!',\n",
       "    'type': 'Album'},\n",
       "   {'first-release-date': '2007-10-01',\n",
       "    'id': 'a73d9d55-0102-3b6b-a3df-ae60c4827164',\n",
       "    'primary-type': 'EP',\n",
       "    'tag-list': [{'count': '1', 'name': 'avantgarde'},\n",
       "     {'count': '2', 'name': 'electronic'},\n",
       "     {'count': '1', 'name': 'hip hop rnb and dance hall'},\n",
       "     {'count': '1', 'name': 'hip-hop'},\n",
       "     {'count': '1', 'name': 'instrumental'}],\n",
       "    'title': 'Reset',\n",
       "    'type': 'EP'},\n",
       "   {'first-release-date': '',\n",
       "    'id': 'b25bf9f1-a37c-325f-8c0a-a10cac25ff1c',\n",
       "    'primary-type': 'Album',\n",
       "    'secondary-type-list': ['Compilation'],\n",
       "    'title': 'Raw Cartoons',\n",
       "    'type': 'Compilation'},\n",
       "   {'first-release-date': '2008-06-30',\n",
       "    'id': 'b6720434-f4c3-3233-b76f-fc9c85108a5e',\n",
       "    'primary-type': 'EP',\n",
       "    'tag-list': [{'count': '1', 'name': 'electronic'},\n",
       "     {'count': '1', 'name': 'hip-hop'},\n",
       "     {'count': '1', 'name': 'instrumental'}],\n",
       "    'title': 'L.A. EP 1 X 3',\n",
       "    'type': 'EP'},\n",
       "   {'first-release-date': '2009-08-17',\n",
       "    'id': 'd6d38a8a-b1d6-448e-ace6-023ec9db94c0',\n",
       "    'primary-type': 'EP',\n",
       "    'title': 'L.A. EP 3 X 3',\n",
       "    'type': 'EP'},\n",
       "   {'first-release-date': '2010-04-21',\n",
       "    'id': 'ddae2c76-1433-4a9a-be05-3447bda75eee',\n",
       "    'primary-type': 'Album',\n",
       "    'tag-list': [{'count': '2', 'name': 'electronic'},\n",
       "     {'count': '1', 'name': 'hip-hop idm'},\n",
       "     {'count': '1', 'name': 'hip-hop industrial'}],\n",
       "    'title': 'Cosmogramma',\n",
       "    'type': 'Album'},\n",
       "   {'first-release-date': '2012-09-26',\n",
       "    'id': 'eb9e0983-2478-4494-a8e2-e4117c2ba40f',\n",
       "    'primary-type': 'Album',\n",
       "    'tag-list': [{'count': '4', 'name': 'electronic'}],\n",
       "    'title': 'Until the Quiet Comes',\n",
       "    'type': 'Album'},\n",
       "   {'first-release-date': '',\n",
       "    'id': 'edc1fbb8-ba92-46ed-81fe-c44c0271b25a',\n",
       "    'primary-type': 'Album',\n",
       "    'secondary-type-list': ['Live'],\n",
       "    'title': '2010-06-18: Sonar 2010, Barcelona, SP',\n",
       "    'type': 'Live'}],\n",
       "  'sort-name': 'Flying Lotus',\n",
       "  'tag-list': [{'count': '1', 'name': 'beatgen'},\n",
       "   {'count': '1', 'name': 'downtempo'},\n",
       "   {'count': '1', 'name': 'electronic'},\n",
       "   {'count': '1', 'name': 'experimental hip hop'},\n",
       "   {'count': '1', 'name': 'hip hop'},\n",
       "   {'count': '0', 'name': 'hip hop rnb and dance hall'},\n",
       "   {'count': '0', 'name': 'hiphop'},\n",
       "   {'count': '1', 'name': 'warp'}],\n",
       "  'type': 'Person'}}"
      ]
     },
     "execution_count": 34,
     "metadata": {},
     "output_type": "execute_result"
    }
   ],
   "source": [
    "result"
   ]
  },
  {
   "cell_type": "code",
   "execution_count": 35,
   "metadata": {
    "collapsed": false
   },
   "outputs": [
    {
     "name": "stdout",
     "output_type": "stream",
     "text": [
      "(2015-07-04) Lovers Melt 4 (Album)\n",
      "(2011-01-12) Cosmogramma Alt Takes (EP)\n",
      "(2008-08) Shhh! (EP)\n",
      "(2008-11-24) L.A. EP 2 X 3 (EP)\n",
      "(2009) Tectonic Plate 2.3 (EP)\n",
      "(2009-05-02) LA CD (Compilation)\n",
      "(2010) IIOIO (Compilation)\n",
      "(2009-02) Whole Wide World / Lit Up / Keep It Moving (EP)\n",
      "(2008-06-04) Los Angeles (Album)\n",
      "(2010-09-11) Pattern+Grid World (EP)\n",
      "() 2009-04-05: Plastic People, London, UK (Live)\n",
      "(2006-10-03) 1983 (Album)\n",
      "(2014-10-06) You’re Dead! (Album)\n",
      "(2007-10-01) Reset (EP)\n",
      "() Raw Cartoons (Compilation)\n",
      "(2008-06-30) L.A. EP 1 X 3 (EP)\n",
      "(2009-08-17) L.A. EP 3 X 3 (EP)\n",
      "(2010-04-21) Cosmogramma (Album)\n",
      "(2012-09-26) Until the Quiet Comes (Album)\n",
      "() 2010-06-18: Sonar 2010, Barcelona, SP (Live)\n"
     ]
    }
   ],
   "source": [
    "for release_group in result[\"artist\"][\"release-group-list\"]:\n",
    "    print(\"({date}) {title} ({type})\".format(date=release_group[\"first-release-date\"],\n",
    "                                            title=release_group[\"title\"],type=release_group['type']))"
   ]
  },
  {
   "cell_type": "markdown",
   "metadata": {},
   "source": [
    "#### only albums"
   ]
  },
  {
   "cell_type": "code",
   "execution_count": 36,
   "metadata": {
    "collapsed": true
   },
   "outputs": [],
   "source": [
    "result1 = mbz.get_artist_by_id(artist_id,includes=[\"release-groups\",\"tags\"], release_type=[\"album\"])"
   ]
  },
  {
   "cell_type": "code",
   "execution_count": 37,
   "metadata": {
    "collapsed": false
   },
   "outputs": [
    {
     "name": "stdout",
     "output_type": "stream",
     "text": [
      "(2008-06-04) [{'name': 'beatgen', 'count': '2'}, {'name': 'electronic', 'count': '3'}, {'name': 'hip-hop', 'count': '1'}, {'name': 'instrumental', 'count': '2'}] Los Angeles (Album)\n",
      "(2006-10-03) [{'name': 'electronic', 'count': '1'}, {'name': 'hip-hop', 'count': '2'}, {'name': 'instrumental', 'count': '2'}] 1983 (Album)\n",
      "(2014-10-06) [{'name': 'electronic', 'count': '1'}] You’re Dead! (Album)\n",
      "(2010-04-21) [{'name': 'electronic', 'count': '2'}, {'name': 'hip-hop idm', 'count': '1'}, {'name': 'hip-hop industrial', 'count': '1'}] Cosmogramma (Album)\n",
      "(2012-09-26) [{'name': 'electronic', 'count': '4'}] Until the Quiet Comes (Album)\n"
     ]
    }
   ],
   "source": [
    "# get genres of albums\n",
    "for release_group in result1[\"artist\"][\"release-group-list\"]:\n",
    "    if release_group['type'] == 'Album' and release_group['title'] != 'Lovers Melt 4':\n",
    "        print(\"({date}) {tag} {title} ({type})\".format(date=release_group[\"first-release-date\"],\n",
    "                                                tag=release_group[\"tag-list\"],title=release_group[\"title\"],type=release_group['type']))"
   ]
  },
  {
   "cell_type": "code",
   "execution_count": 38,
   "metadata": {
    "collapsed": false
   },
   "outputs": [],
   "source": [
    "newList = []\n",
    "for record in result[\"artist\"][\"release-group-list\"]:\n",
    "    currentJson = {}\n",
    "    currentJson['title'] = record.get('title')\n",
    "    currentJson['date'] = record.get('first-release-date')\n",
    "    currentJson['tag'] = record.get('tag-list')\n",
    "    currentJson['type'] = record.get('type')\n",
    "    newList.append(currentJson)"
   ]
  },
  {
   "cell_type": "code",
   "execution_count": 39,
   "metadata": {
    "collapsed": false
   },
   "outputs": [],
   "source": [
    "df = pd.DataFrame(newList)\n",
    "df['year'] = df['date'].str[:4]"
   ]
  },
  {
   "cell_type": "code",
   "execution_count": 40,
   "metadata": {
    "collapsed": false
   },
   "outputs": [],
   "source": [
    "newdf = pd.DataFrame(df.groupby('year').type.value_counts())\n",
    "newdf.columns = ['count']"
   ]
  },
  {
   "cell_type": "code",
   "execution_count": 41,
   "metadata": {
    "collapsed": false
   },
   "outputs": [],
   "source": [
    "temp1 = newdf.reset_index(0)\n",
    "temp1['type'] = temp1.index"
   ]
  },
  {
   "cell_type": "markdown",
   "metadata": {},
   "source": [
    "## Call Spotify API"
   ]
  },
  {
   "cell_type": "code",
   "execution_count": 42,
   "metadata": {
    "collapsed": true
   },
   "outputs": [],
   "source": [
    "import spotipy\n",
    "sp = spotipy.Spotify()"
   ]
  },
  {
   "cell_type": "code",
   "execution_count": 43,
   "metadata": {
    "collapsed": true
   },
   "outputs": [],
   "source": [
    "def get_artist(name):\n",
    "    results = sp.search(q='artist:' + name, type='artist')\n",
    "    items = results['artists']['items']\n",
    "    if len(items) > 0:\n",
    "        return items[0]\n",
    "    else:\n",
    "        return None"
   ]
  },
  {
   "cell_type": "code",
   "execution_count": 44,
   "metadata": {
    "collapsed": false
   },
   "outputs": [
    {
     "data": {
      "text/plain": [
       "{'external_urls': {'spotify': 'https://open.spotify.com/artist/29XOeO6KIWxGthejQqn793'},\n",
       " 'followers': {'href': None, 'total': 231603},\n",
       " 'genres': ['wonky'],\n",
       " 'href': 'https://api.spotify.com/v1/artists/29XOeO6KIWxGthejQqn793',\n",
       " 'id': '29XOeO6KIWxGthejQqn793',\n",
       " 'images': [{'height': 912,\n",
       "   'url': 'https://i.scdn.co/image/83b48b244611bf21fe0112334c576f6a5e851664',\n",
       "   'width': 912},\n",
       "  {'height': 640,\n",
       "   'url': 'https://i.scdn.co/image/34594e7abfe8fa44049fb944c59e479b4f431425',\n",
       "   'width': 640},\n",
       "  {'height': 200,\n",
       "   'url': 'https://i.scdn.co/image/b6279ec650f4c8aa9a0e9ad4ff7f2090d5dd7d41',\n",
       "   'width': 200},\n",
       "  {'height': 64,\n",
       "   'url': 'https://i.scdn.co/image/48e3ae8d3d021a3b797a4f0c1fc36cefa38f92b2',\n",
       "   'width': 64}],\n",
       " 'name': 'Flying Lotus',\n",
       " 'popularity': 61,\n",
       " 'type': 'artist',\n",
       " 'uri': 'spotify:artist:29XOeO6KIWxGthejQqn793'}"
      ]
     },
     "execution_count": 44,
     "metadata": {},
     "output_type": "execute_result"
    }
   ],
   "source": [
    "get_artist(\"Flying Lotus\")"
   ]
  },
  {
   "cell_type": "code",
   "execution_count": 45,
   "metadata": {
    "collapsed": true
   },
   "outputs": [],
   "source": [
    "uri = \"spotify:artist:29XOeO6KIWxGthejQqn793\""
   ]
  },
  {
   "cell_type": "code",
   "execution_count": 46,
   "metadata": {
    "collapsed": true
   },
   "outputs": [],
   "source": [
    "related_artists = sp.artist_related_artists(uri)"
   ]
  },
  {
   "cell_type": "code",
   "execution_count": 47,
   "metadata": {
    "collapsed": true
   },
   "outputs": [],
   "source": [
    "def show_artist_albums(artist):\n",
    "    albums = []\n",
    "    results = sp.artist_albums(artist, album_type=['album'])\n",
    "    albums.extend(results['items'])\n",
    "    while results['next']:\n",
    "        results = sp.next(results)\n",
    "        albums.extend(results['items'])\n",
    "    # to avoid dups\n",
    "    seen = set()\n",
    "    albums.sort(key=lambda album:album['name'].lower())\n",
    "    for album in albums:\n",
    "        name = album['name']\n",
    "        uri = album['uri']\n",
    "        if name not in seen:\n",
    "            print((' ' + name)+''+(' ' + uri))\n",
    "            seen.add(name)"
   ]
  },
  {
   "cell_type": "code",
   "execution_count": 48,
   "metadata": {
    "collapsed": false
   },
   "outputs": [
    {
     "name": "stdout",
     "output_type": "stream",
     "text": [
      " Cosmogramma spotify:album:5c7XChrHxYaqykCZLaGM5f\n",
      " Los Angeles spotify:album:7pdhnkO0t8HiRv4dmggt2I\n",
      " Until The Quiet Comes spotify:album:40aG9ahuLnAv96yoFG75Uy\n",
      " You're Dead! spotify:album:29luvT98TnqHjVDYSRbbrj\n",
      " You're Dead! (Deluxe) spotify:album:3Y9XeEhhPyzFnCGDjKcVB0\n"
     ]
    }
   ],
   "source": [
    "show_artist_albums(uri)"
   ]
  },
  {
   "cell_type": "code",
   "execution_count": 49,
   "metadata": {
    "collapsed": true
   },
   "outputs": [],
   "source": [
    "cosmo = 'spotify:album:5c7XChrHxYaqykCZLaGM5f'"
   ]
  },
  {
   "cell_type": "code",
   "execution_count": 55,
   "metadata": {
    "collapsed": false
   },
   "outputs": [],
   "source": [
    "album_tracks = sp.album_tracks(cosmo)"
   ]
  },
  {
   "cell_type": "code",
   "execution_count": 58,
   "metadata": {
    "collapsed": true
   },
   "outputs": [],
   "source": [
    "songid = '3C1z7AyGWhSNITaiz5tgws'"
   ]
  },
  {
   "cell_type": "code",
   "execution_count": 60,
   "metadata": {
    "collapsed": true
   },
   "outputs": [],
   "source": [
    "#audio = sp.audio_features(songid)"
   ]
  }
 ],
 "metadata": {
  "kernelspec": {
   "display_name": "Python 3",
   "language": "python",
   "name": "python3"
  },
  "language_info": {
   "codemirror_mode": {
    "name": "ipython",
    "version": 3
   },
   "file_extension": ".py",
   "mimetype": "text/x-python",
   "name": "python",
   "nbconvert_exporter": "python",
   "pygments_lexer": "ipython3",
   "version": "3.5.2"
  }
 },
 "nbformat": 4,
 "nbformat_minor": 1
}
